{
 "cells": [
  {
   "cell_type": "code",
   "execution_count": null,
   "id": "635e985c",
   "metadata": {},
   "outputs": [],
   "source": [
    "#Dependencies and Setup\n",
    "import pandas as pd\n",
    "from matplotlib import pyplot as plt\n",
    "import seaborn as sns\n",
    "from statsmodels.formula.api import ols\n",
    "import numpy as np\n",
    "from patsy import dmatrices\n",
    "from sklearn import metrics\n",
    "from matplotlib import pyplot as plt\n",
    "from sklearn.preprocessing import StandardScaler\n",
    "from sklearn.linear_model import LassoCV\n",
    "from sklearn.linear_model import Ridge, RidgeCV\n",
    "from sklearn.model_selection import train_test_split\n",
    "from sklearn.linear_model import LinearRegression \n",
    "from sklearn.metrics import r2_score\n",
    "from sklearn.ensemble import RandomForestRegressor\n",
    "pd.set_option('display.max_rows', 500)\n",
    "pd.set_option('display.max_columns', 500)\n",
    "pd.set_option('display.width', 1000)"
   ]
  },
  {
   "cell_type": "code",
   "execution_count": null,
   "id": "1e0937c7",
   "metadata": {},
   "outputs": [],
   "source": [
    "#Load Main NBA CSV\n",
    "NBAData = \"C:/Users/john1/Documents/GitHub/WakeTechCapstone/NBAFinalExport.csv\""
   ]
  },
  {
   "cell_type": "code",
   "execution_count": null,
   "id": "9f85768f",
   "metadata": {},
   "outputs": [],
   "source": [
    "#Read the loaded Data\n",
    "nba_data_df = pd.read_csv(NBAData, low_memory=False)"
   ]
  },
  {
   "cell_type": "code",
   "execution_count": null,
   "id": "7a140039",
   "metadata": {},
   "outputs": [],
   "source": [
    "#add all features\n",
    "features = nba_data_df"
   ]
  },
  {
   "cell_type": "code",
   "execution_count": null,
   "id": "724f302d",
   "metadata": {},
   "outputs": [],
   "source": [
    "features"
   ]
  },
  {
   "cell_type": "code",
   "execution_count": null,
   "id": "39fbcdf2",
   "metadata": {},
   "outputs": [],
   "source": [
    "features"
   ]
  },
  {
   "cell_type": "code",
   "execution_count": null,
   "id": "6c4b802d",
   "metadata": {},
   "outputs": [],
   "source": [
    "#drop unneeded columns\n",
    "features.drop(columns=['GAME-ID','PlayerCleaned', 'DATE','GMIN', 'GMFG', 'GMFGA', 'GM3P', 'GM3PA', 'GMFT', 'GMFTA', 'GMOR', 'GMDR', 'GMREB', 'GMAST', 'GMPF', 'GMST', 'GMTO', 'GMBL', 'GMPTS', 'GMUSAGE', 'GMREST', 'GMTM1Q', 'GMTM2Q', 'GMTM3Q', 'GMTM4Q', 'GMTMOT1', 'GMTMOT2', 'GMTMOT3', 'GMTMOT4', 'GMTMOT5', 'GMTMF', 'GMTMMIN', 'GMTMFG', 'GMTMFGA', 'GMTM3P', 'GMTM3PA', 'GMTMFT', 'GMTMFTA', 'GMTMOR', 'GMTMDR', 'GMTMREB', 'GMTMAST', 'GMTMPF', 'GMTMST', 'GMTMTO', 'GMTMTOTO', 'GMTMBL', 'GMTMPTS', 'GMTMPOSS', 'GMTMPACE', 'GMTMOEFF', 'GMTMDEFF', 'GMTMREST', 'MAIN REF', 'CREW',  'OPENING ODDS', 'CLOSING_ODDS'],inplace=True)"
   ]
  },
  {
   "cell_type": "code",
   "execution_count": null,
   "id": "2aeac16a",
   "metadata": {},
   "outputs": [],
   "source": [
    "features.dtypes"
   ]
  },
  {
   "cell_type": "code",
   "execution_count": null,
   "id": "06886531",
   "metadata": {},
   "outputs": [],
   "source": [
    "#describe features\n",
    "features.describe()"
   ]
  },
  {
   "cell_type": "code",
   "execution_count": null,
   "id": "4e0c561b",
   "metadata": {},
   "outputs": [],
   "source": [
    "#view nulls\n",
    "features.isnull().sum()"
   ]
  },
  {
   "cell_type": "markdown",
   "id": "acf86696",
   "metadata": {},
   "source": [
    "Because of the size of the data set with the relative low number of null values I am going to drop any row with a null value before setting up the model"
   ]
  },
  {
   "cell_type": "code",
   "execution_count": null,
   "id": "07675161",
   "metadata": {},
   "outputs": [],
   "source": [
    "#drop rows with null values\n",
    "features.dropna(inplace=True)"
   ]
  },
  {
   "cell_type": "code",
   "execution_count": null,
   "id": "ca502dfa",
   "metadata": {},
   "outputs": [],
   "source": [
    "#get feature description after null values drop\n",
    "features.describe()"
   ]
  },
  {
   "cell_type": "code",
   "execution_count": null,
   "id": "15ebf309",
   "metadata": {},
   "outputs": [],
   "source": [
    "#get null value count after drop\n",
    "features.isnull().sum()"
   ]
  },
  {
   "cell_type": "code",
   "execution_count": null,
   "id": "04cf04c1",
   "metadata": {},
   "outputs": [],
   "source": [
    "#one-hot encoding for categorical values\n",
    "features = pd.get_dummies(features)"
   ]
  },
  {
   "cell_type": "code",
   "execution_count": null,
   "id": "c4a107aa",
   "metadata": {},
   "outputs": [],
   "source": [
    "features"
   ]
  },
  {
   "cell_type": "code",
   "execution_count": null,
   "id": "7cdf9a11",
   "metadata": {},
   "outputs": [],
   "source": [
    "# Labels are the values we want to predict\n",
    "labels = np.array(features['DKPTS'])"
   ]
  },
  {
   "cell_type": "code",
   "execution_count": null,
   "id": "e6627960",
   "metadata": {},
   "outputs": [],
   "source": [
    "# Remove the labels from the features\n",
    "# axis 1 refers to the columns\n",
    "features= features.drop('DKPTS', axis = 1)"
   ]
  },
  {
   "cell_type": "code",
   "execution_count": null,
   "id": "abc32abc",
   "metadata": {},
   "outputs": [],
   "source": [
    "features"
   ]
  },
  {
   "cell_type": "code",
   "execution_count": null,
   "id": "e6d10b14",
   "metadata": {},
   "outputs": [],
   "source": [
    "# Saving feature names for later use\n",
    "feature_list = list(features.columns)"
   ]
  },
  {
   "cell_type": "code",
   "execution_count": null,
   "id": "80319ba4",
   "metadata": {},
   "outputs": [],
   "source": [
    "# Convert to numpy array\n",
    "features = np.array(features)"
   ]
  },
  {
   "cell_type": "code",
   "execution_count": null,
   "id": "3d9dbb6b",
   "metadata": {},
   "outputs": [],
   "source": [
    "train_features, test_features, train_labels, test_labels = train_test_split(features, labels, test_size = 0.25, random_state = 42)"
   ]
  },
  {
   "cell_type": "code",
   "execution_count": null,
   "id": "3d64c7b6",
   "metadata": {},
   "outputs": [],
   "source": [
    "print('Training Features Shape:', train_features.shape)\n",
    "print('Training Labels Shape:', train_labels.shape)\n",
    "print('Testing Features Shape:', test_features.shape)\n",
    "print('Testing Labels Shape:', test_labels.shape)"
   ]
  },
  {
   "cell_type": "code",
   "execution_count": null,
   "id": "7ae4cb0c",
   "metadata": {},
   "outputs": [],
   "source": [
    "# Instantiate model with 1000 decision trees\n",
    "rf = RandomForestRegressor(n_estimators = 1000, random_state = 42)"
   ]
  },
  {
   "cell_type": "code",
   "execution_count": null,
   "id": "03a75c60",
   "metadata": {},
   "outputs": [],
   "source": [
    "# Train the model on training data\n",
    "rf.fit(train_features, train_labels);"
   ]
  },
  {
   "cell_type": "code",
   "execution_count": null,
   "id": "7984a303",
   "metadata": {},
   "outputs": [],
   "source": [
    "# Use the forest's predict method on the test data\n",
    "predictions = rf.predict(test_features)"
   ]
  },
  {
   "cell_type": "code",
   "execution_count": null,
   "id": "91cb03d7",
   "metadata": {},
   "outputs": [],
   "source": [
    "# Calculate the absolute errors\n",
    "errors = abs(predictions - test_labels)"
   ]
  },
  {
   "cell_type": "code",
   "execution_count": null,
   "id": "ac363be1",
   "metadata": {},
   "outputs": [],
   "source": [
    "# Print out the mean absolute error (mae)\n",
    "print('Mean Absolute Error:', round(np.mean(errors), 2))"
   ]
  },
  {
   "cell_type": "code",
   "execution_count": null,
   "id": "fc9f50cf",
   "metadata": {},
   "outputs": [],
   "source": [
    "errors"
   ]
  },
  {
   "cell_type": "code",
   "execution_count": null,
   "id": "5d1e2e8e",
   "metadata": {},
   "outputs": [],
   "source": [
    "# Get numerical feature importances\n",
    "importances = list(rf.feature_importances_)"
   ]
  },
  {
   "cell_type": "code",
   "execution_count": null,
   "id": "ee721950",
   "metadata": {},
   "outputs": [],
   "source": [
    "# List of tuples with variable and importance\n",
    "feature_importances = [(feature, round(importance, 5)) for feature, importance in zip(feature_list, importances)]"
   ]
  },
  {
   "cell_type": "code",
   "execution_count": null,
   "id": "26c26b05",
   "metadata": {},
   "outputs": [],
   "source": [
    "# Sort the feature importances by most important first\n",
    "feature_importances = sorted(feature_importances, key = lambda x: x[1], reverse = True)"
   ]
  },
  {
   "cell_type": "code",
   "execution_count": null,
   "id": "896a7ca7",
   "metadata": {},
   "outputs": [],
   "source": [
    "# Print out the feature and importances \n",
    "[print('Variable: {:20} Importance: {}'.format(*pair)) for pair in feature_importances];"
   ]
  },
  {
   "cell_type": "code",
   "execution_count": null,
   "id": "76dfeff4",
   "metadata": {},
   "outputs": [],
   "source": [
    "predictions"
   ]
  },
  {
   "cell_type": "code",
   "execution_count": null,
   "id": "ca9e9874",
   "metadata": {},
   "outputs": [],
   "source": [
    "test_features.shape"
   ]
  },
  {
   "cell_type": "code",
   "execution_count": null,
   "id": "3b3aece5",
   "metadata": {},
   "outputs": [],
   "source": [
    "test_features = pd.DataFrame(test_features)"
   ]
  },
  {
   "cell_type": "code",
   "execution_count": null,
   "id": "f1f86ffb",
   "metadata": {},
   "outputs": [],
   "source": [
    "test_features"
   ]
  },
  {
   "cell_type": "code",
   "execution_count": null,
   "id": "b0b829d6",
   "metadata": {},
   "outputs": [],
   "source": [
    "predictions = pd.DataFrame(predictions)"
   ]
  },
  {
   "cell_type": "code",
   "execution_count": null,
   "id": "7773483e",
   "metadata": {},
   "outputs": [],
   "source": [
    "predictions"
   ]
  },
  {
   "cell_type": "code",
   "execution_count": null,
   "id": "5de303ac",
   "metadata": {},
   "outputs": [],
   "source": [
    "DKPTS = pd.DataFrame(test_labels)"
   ]
  },
  {
   "cell_type": "code",
   "execution_count": null,
   "id": "9e15f724",
   "metadata": {},
   "outputs": [],
   "source": [
    "DKPTS"
   ]
  },
  {
   "cell_type": "code",
   "execution_count": null,
   "id": "f123b729",
   "metadata": {},
   "outputs": [],
   "source": [
    "frames = [test_features, predictions, DKPTS ]"
   ]
  },
  {
   "cell_type": "code",
   "execution_count": null,
   "id": "9727b6db",
   "metadata": {},
   "outputs": [],
   "source": [
    "finalTestResults = pd.concat([test_features, predictions, DKPTS], axis=1, join=\"inner\")"
   ]
  },
  {
   "cell_type": "code",
   "execution_count": null,
   "id": "0e6223ce",
   "metadata": {},
   "outputs": [],
   "source": [
    "finalTestResults"
   ]
  },
  {
   "cell_type": "code",
   "execution_count": null,
   "id": "a4cfbfbf",
   "metadata": {},
   "outputs": [],
   "source": [
    "feature_list"
   ]
  },
  {
   "cell_type": "code",
   "execution_count": null,
   "id": "0b45c0e7",
   "metadata": {},
   "outputs": [],
   "source": [
    "finalTestResults.columns =['Seasons',\n",
    "'PLAYER-ID',\n",
    " 'DKSAL',\n",
    " 'Age',\n",
    " 'G',\n",
    " 'MP',\n",
    " 'PER',\n",
    " 'TS%',\n",
    " '3PAr',\n",
    " 'FTr',\n",
    " 'ORB%',\n",
    " 'DRB%',\n",
    " 'TRB%',\n",
    " 'AST%',\n",
    " 'STL%',\n",
    " 'BLK%',\n",
    " 'TOV%',\n",
    " 'USG%',\n",
    " 'OWS',\n",
    " 'DWS',\n",
    " 'WS',\n",
    " 'WS/48',\n",
    " 'OBPM',\n",
    " 'DBPM',\n",
    " 'BPM',\n",
    " 'VORP',\n",
    " 'GS',\n",
    " 'PLFG',\n",
    " 'PLFGA',\n",
    " 'PLFG%',\n",
    " 'PL3P',\n",
    " 'PL3PA',\n",
    " 'PL3P%',\n",
    " 'PL2P',\n",
    " 'PL2PA',\n",
    " 'PL2P%',\n",
    " 'PLFT',\n",
    " 'PLFTA',\n",
    " 'PLFT%',\n",
    " 'PLORB',\n",
    " 'PLDRB',\n",
    " 'PLREB',\n",
    " 'PLAST',\n",
    " 'PLSTL',\n",
    " 'PLBLK',\n",
    " 'PLTO',\n",
    " 'PLPF',\n",
    " 'PLPTS',\n",
    " 'ORtg',\n",
    " 'DRtg',\n",
    " 'OPENING SPREAD',\n",
    " 'OPENING TOTAL',\n",
    " 'CLOSING SPREAD',\n",
    " 'CLOSING TOTAL',\n",
    " 'W',\n",
    " 'L',\n",
    " 'TMPW',\n",
    " 'TMPL',\n",
    " 'TMMOV',\n",
    " 'TMSOS',\n",
    " 'TMSRS',\n",
    " 'TMORTG',\n",
    " 'TMDRTG',\n",
    " 'TMNRTG',\n",
    " 'TMPACE',\n",
    " 'TMFTr',\n",
    " 'TM3PAr',\n",
    " 'TMTS%',\n",
    " 'TMeFG%',\n",
    " 'TMTOV%',\n",
    " 'TMORB%',\n",
    " 'TMFT/FGA',\n",
    " 'TMeFG%_2',\n",
    " 'TMTOV%_3',\n",
    " 'TMDRB%',\n",
    " 'TMFT/FGA_4',\n",
    " 'TMATTEND',\n",
    " 'TMATTGM',\n",
    " 'TMG',\n",
    " 'TMPERMIN',\n",
    " 'TMPERFG',\n",
    " 'TMPERFGA',\n",
    " 'TMPERFG%',\n",
    " 'TMPER3P',\n",
    " 'TMPER3PA',\n",
    " 'TMPER3P%',\n",
    " 'TMPER2P',\n",
    " 'TMPER2PA',\n",
    " 'TMPER2P%',\n",
    " 'TMPERFT',\n",
    " 'TMPERFTA',\n",
    " 'TMPERFT%',\n",
    " 'TMPERORB',\n",
    " 'TMPERDRB',\n",
    " 'TMPERREB',\n",
    " 'TMPERAST',\n",
    " 'TMPERSTL',\n",
    " 'TMPERBLK',\n",
    " 'TMPERTOV',\n",
    " 'TMPERPF',\n",
    " 'TMPERPTS',\n",
    " 'OPPG',\n",
    " 'OPPMP',\n",
    " 'OPPFG',\n",
    " 'OPPFGA',\n",
    " 'OPPFG%',\n",
    " 'OPP3P',\n",
    " 'OPP3PA',\n",
    " 'OPP3P%',\n",
    " 'OPP2P',\n",
    " 'OPP2PA',\n",
    " 'OPP2P%',\n",
    " 'OPPFT',\n",
    " 'OPPFTA',\n",
    " 'OPPFT%',\n",
    " 'OPPORB',\n",
    " 'OPPDRB',\n",
    " 'OPPREB',\n",
    " 'OPPAST',\n",
    " 'OPPSTL',\n",
    " 'OPPBLK',\n",
    " 'OPPTOV',\n",
    " 'OPPPF',\n",
    " 'OPPPTS',\n",
    " 'VSADVGMS',\n",
    " 'VSADVDKPTS',\n",
    " 'VSADVPTS',\n",
    " 'VSADVFG',\n",
    " 'VSADVFGA',\n",
    " 'VSADVFG%',\n",
    " 'VSADV3P',\n",
    " 'VSADV3PA',\n",
    " 'VSADV3P%',\n",
    " 'VSADVFT',\n",
    " 'VSADVFTA',\n",
    " 'VSADVFT%',\n",
    " 'VSADVOR',\n",
    " 'VSADVDR',\n",
    " 'VSADVREB',\n",
    " 'VSADVAST',\n",
    " 'VSADVPF',\n",
    " 'VSADVST',\n",
    " 'VSADVTO',\n",
    " 'VSADVBL',\n",
    " 'VSADVUSAGE',\n",
    " 'PLADVGMS',\n",
    " 'PLADVAVGDKPTS',\n",
    " 'PLADVMINDKPTS',\n",
    " 'PLADVMAXDKPTS',\n",
    " 'PLADVDEVDKPTS',\n",
    " 'PLADVPTS',\n",
    " 'PLADVFG',\n",
    " 'PLADVFGA',\n",
    " 'PLADVFG%',\n",
    " 'PLADV3P',\n",
    " 'PLADV3PA',\n",
    " 'PLADV3P%',\n",
    " 'PLADVFT',\n",
    " 'PLADVFTA',\n",
    " 'PLADVFT%',\n",
    " 'PLADVOR',\n",
    " 'PLADVDR',\n",
    " 'PLADVREB',\n",
    " 'PLADVAST',\n",
    " 'PLADVPF',\n",
    " 'PLADVST',\n",
    " 'PLADVTO',\n",
    " 'PLADVBL',\n",
    " 'PLADVUSAGE',\n",
    " 'OWN_TEAM_Atlanta',\n",
    " 'OWN_TEAM_Boston',\n",
    " 'OWN_TEAM_Brooklyn',\n",
    " 'OWN_TEAM_Charlotte',\n",
    " 'OWN_TEAM_Chicago',\n",
    " 'OWN_TEAM_Cleveland',\n",
    " 'OWN_TEAM_Dallas',\n",
    " 'OWN_TEAM_Denver',\n",
    " 'OWN_TEAM_Detroit',\n",
    " 'OWN_TEAM_Golden State',\n",
    " 'OWN_TEAM_Houston',\n",
    " 'OWN_TEAM_Indiana',\n",
    " 'OWN_TEAM_LA Clippers',\n",
    " 'OWN_TEAM_LA Lakers',\n",
    " 'OWN_TEAM_Memphis',\n",
    " 'OWN_TEAM_Miami',\n",
    " 'OWN_TEAM_Milwaukee',\n",
    " 'OWN_TEAM_Minnesota',\n",
    " 'OWN_TEAM_New Orleans',\n",
    " 'OWN_TEAM_New York',\n",
    " 'OWN_TEAM_Oklahoma City',\n",
    " 'OWN_TEAM_Orlando',\n",
    " 'OWN_TEAM_Philadelphia',\n",
    " 'OWN_TEAM_Phoenix',\n",
    " 'OWN_TEAM_Portland',\n",
    " 'OWN_TEAM_Sacramento',\n",
    " 'OWN_TEAM_San Antonio',\n",
    " 'OWN_TEAM_Toronto',\n",
    " 'OWN_TEAM_Utah',\n",
    " 'OWN_TEAM_Washington',\n",
    " 'OPPONENT_TEAM_Atlanta',\n",
    " 'OPPONENT_TEAM_Boston',\n",
    " 'OPPONENT_TEAM_Brooklyn',\n",
    " 'OPPONENT_TEAM_Charlotte',\n",
    " 'OPPONENT_TEAM_Chicago',\n",
    " 'OPPONENT_TEAM_Cleveland',\n",
    " 'OPPONENT_TEAM_Dallas',\n",
    " 'OPPONENT_TEAM_Denver',\n",
    " 'OPPONENT_TEAM_Detroit',\n",
    " 'OPPONENT_TEAM_Golden State',\n",
    " 'OPPONENT_TEAM_Houston',\n",
    " 'OPPONENT_TEAM_Indiana',\n",
    " 'OPPONENT_TEAM_LA Clippers',\n",
    " 'OPPONENT_TEAM_LA Lakers',\n",
    " 'OPPONENT_TEAM_Memphis',\n",
    " 'OPPONENT_TEAM_Miami',\n",
    " 'OPPONENT_TEAM_Milwaukee',\n",
    " 'OPPONENT_TEAM_Minnesota',\n",
    " 'OPPONENT_TEAM_New Orleans',\n",
    " 'OPPONENT_TEAM_New York',\n",
    " 'OPPONENT_TEAM_Oklahoma City',\n",
    " 'OPPONENT_TEAM_Orlando',\n",
    " 'OPPONENT_TEAM_Philadelphia',\n",
    " 'OPPONENT_TEAM_Phoenix',\n",
    " 'OPPONENT_TEAM_Portland',\n",
    " 'OPPONENT_TEAM_Sacramento',\n",
    " 'OPPONENT_TEAM_San Antonio',\n",
    " 'OPPONENT_TEAM_Toronto',\n",
    " 'OPPONENT_TEAM_Utah',\n",
    " 'OPPONENT_TEAM_Washington',\n",
    " 'Venue_H',\n",
    " 'Venue_R',\n",
    " 'Starter_N',\n",
    " 'Starter_Y',\n",
    " 'DKPOS_C',\n",
    " 'DKPOS_C/PF',\n",
    " 'DKPOS_PF',\n",
    " 'DKPOS_PF/C',\n",
    " 'DKPOS_PG',\n",
    " 'DKPOS_PG/SF',\n",
    " 'DKPOS_PG/SG',\n",
    " 'DKPOS_SF',\n",
    " 'DKPOS_SF/PF',\n",
    " 'DKPOS_SG',\n",
    " 'DKPOS_SG/SF',\n",
    " 'CONFERENCE_East',\n",
    " 'CONFERENCE_West',\n",
    " 'DIVISION_Atlantic',\n",
    " 'DIVISION_Central',\n",
    " 'DIVISION_Northwest',\n",
    " 'DIVISION_Pacific',\n",
    " 'DIVISION_Southeast',\n",
    " 'DIVISION_Southwest',\n",
    " 'BIGDATABALL_DATASET_NBA 2018-2019 Regular Season',\n",
    " 'BIGDATABALL_DATASET_NBA 2019 Playoffs',\n",
    " 'BIGDATABALL_DATASET_NBA 2019-2020 Regular Season',\n",
    " 'BIGDATABALL_DATASET_NBA 2020 Playoffs',\n",
    " 'BIGDATABALL_DATASET_NBA 2020-2021 Regular Season',\n",
    " 'BIGDATABALL_DATASET_NBA 2021 Play-in',\n",
    " 'BIGDATABALL_DATASET_NBA 2021 Playoffs',\n",
    " 'BIGDATABALL_DATASET_NBA 2021-2022 Regular Season',\n",
    " 'TMARENA_AT&T Center',\n",
    " 'TMARENA_Amalie Arena',\n",
    " 'TMARENA_American Airlines Center',\n",
    " 'TMARENA_AmericanAirlines Arena',\n",
    " 'TMARENA_Amway Center',\n",
    " 'TMARENA_Ball Arena',\n",
    " 'TMARENA_Bankers Life Fieldhouse',\n",
    " 'TMARENA_Barclays Center',\n",
    " 'TMARENA_Capital One Arena',\n",
    " 'TMARENA_Chase Center',\n",
    " 'TMARENA_Chesapeake Energy Arena',\n",
    " 'TMARENA_FTX Arena',\n",
    " 'TMARENA_FedEx Forum',\n",
    " 'TMARENA_Fiserv Forum',\n",
    " 'TMARENA_Golden 1 Center',\n",
    " 'TMARENA_Little Caesars Arena',\n",
    " 'TMARENA_Madison Square Garden (IV)',\n",
    " 'TMARENA_Moda Center',\n",
    " 'TMARENA_Oracle Arena',\n",
    " 'TMARENA_Pepsi Center',\n",
    " 'TMARENA_Phoenix Suns Arena',\n",
    " 'TMARENA_Quicken Loans Arena',\n",
    " 'TMARENA_STAPLES Center',\n",
    " 'TMARENA_Scotiabank Arena',\n",
    " 'TMARENA_Smoothie King Center',\n",
    " 'TMARENA_Spectrum Center',\n",
    " 'TMARENA_State Farm Arena',\n",
    " 'TMARENA_TD Garden',\n",
    " 'TMARENA_Talking Stick Resort Arena',\n",
    " 'TMARENA_Target Center',\n",
    " 'TMARENA_Toyota Center',\n",
    " 'TMARENA_United Center',\n",
    " 'TMARENA_Vivint Smart Home Arena',\n",
    " 'TMARENA_Wells Fargo Center',\n",
    " 'OPPCONFERENCE_East',\n",
    " 'OPPCONFERENCE_West',\n",
    " 'OPPDIVISION_Atlantic',\n",
    " 'OPPDIVISION_Central',\n",
    " 'OPPDIVISION_Northwest',\n",
    " 'OPPDIVISION_Pacific',\n",
    " 'OPPDIVISION_Southeast',\n",
    " 'OPPDIVISION_Southwest',\n",
    " 'Pred',\n",
    "    'Act']"
   ]
  },
  {
   "cell_type": "code",
   "execution_count": null,
   "id": "82070438",
   "metadata": {},
   "outputs": [],
   "source": [
    "finalTestResults"
   ]
  },
  {
   "cell_type": "code",
   "execution_count": null,
   "id": "205e4dd0",
   "metadata": {},
   "outputs": [],
   "source": [
    "finalTestResults.to_csv('NBAAnalysisResults.csv')"
   ]
  },
  {
   "cell_type": "code",
   "execution_count": null,
   "id": "32672c3b",
   "metadata": {},
   "outputs": [],
   "source": []
  }
 ],
 "metadata": {
  "kernelspec": {
   "display_name": "PythonData",
   "language": "python",
   "name": "pythondata"
  },
  "language_info": {
   "codemirror_mode": {
    "name": "ipython",
    "version": 3
   },
   "file_extension": ".py",
   "mimetype": "text/x-python",
   "name": "python",
   "nbconvert_exporter": "python",
   "pygments_lexer": "ipython3",
   "version": "3.7.10"
  }
 },
 "nbformat": 4,
 "nbformat_minor": 5
}
