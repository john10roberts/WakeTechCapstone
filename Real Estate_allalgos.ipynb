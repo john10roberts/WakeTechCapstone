{
 "cells": [
  {
   "cell_type": "code",
   "execution_count": null,
   "metadata": {},
   "outputs": [],
   "source": [
    "import pandas as pd\n",
    "import numpy as np\n",
    "from sklearn import metrics\n",
    "from matplotlib import pyplot as plt\n",
    " \n",
    "from sklearn.linear_model import LassoCV\n",
    "from sklearn.linear_model import Ridge, RidgeCV\n",
    "from sklearn.model_selection import train_test_split\n",
    "from sklearn.linear_model import LinearRegression \n",
    "from sklearn.metrics import r2_score"
   ]
  },
  {
   "cell_type": "code",
   "execution_count": null,
   "metadata": {},
   "outputs": [],
   "source": [
    "# dfVerySlow = pd.read_excel('RealEstData03242019.xlsx') # VERY SLOW\n",
    "# dfVerySlow.to_pickle('RealEstData03242019.pkl') # Save in a fast internal binary format\n",
    "df= pd.read_pickle('/users/mkshah/bas230sp19/RealEstData03242019.pkl')\n",
    "df.describe()\n"
   ]
  },
  {
   "cell_type": "code",
   "execution_count": null,
   "metadata": {},
   "outputs": [],
   "source": [
    "df.shape"
   ]
  },
  {
   "cell_type": "code",
   "execution_count": null,
   "metadata": {},
   "outputs": [],
   "source": [
    "df.columns"
   ]
  },
  {
   "cell_type": "code",
   "execution_count": null,
   "metadata": {},
   "outputs": [],
   "source": [
    "df.rename(columns={'Total_sale_Price':'TOTAL_SALE_PRICE','Year_Built':'YEAR_BUILT',\n",
    "                   'Deeded_Acreage':'DEEDED_ACREAGE','Total_Sale_Date':'TOTAL_SALE_DATE',\n",
    "                   'Story_Height':'STORY_HEIGHT'},inplace=True)\n",
    "df.columns"
   ]
  },
  {
   "cell_type": "code",
   "execution_count": null,
   "metadata": {},
   "outputs": [],
   "source": [
    "df=df[df['CARD_NUMBER']==1]\n",
    "df.CARD_NUMBER.describe()"
   ]
  },
  {
   "cell_type": "code",
   "execution_count": null,
   "metadata": {},
   "outputs": [],
   "source": [
    "#df['Disq_and_Qual_flag'].value_counts()\n",
    "df=df[df['Disq_and_Qual_flag']=='A']\n",
    "df.shape"
   ]
  },
  {
   "cell_type": "code",
   "execution_count": null,
   "metadata": {},
   "outputs": [],
   "source": [
    "df['yearsale']=df['TOTAL_SALE_DATE'].dt.year\n",
    "df['decade'] = [str(int(x)) for x in np.floor((df.yearsale)/10)*10]\n",
    "df.decade.unique()"
   ]
  },
  {
   "cell_type": "code",
   "execution_count": null,
   "metadata": {},
   "outputs": [],
   "source": [
    "df.HEATED_AREA.describe()"
   ]
  },
  {
   "cell_type": "code",
   "execution_count": null,
   "metadata": {},
   "outputs": [],
   "source": [
    "df.DEEDED_ACREAGE.describe()"
   ]
  },
  {
   "cell_type": "code",
   "execution_count": null,
   "metadata": {},
   "outputs": [],
   "source": [
    "#list (df.columns.values)\n",
    "df = df[df['TYPE_AND_USE'] == 1] # subset data down to houses\n",
    "df = df[df['TOTAL_SALE_PRICE'] > 0] # that people paid for\n",
    "df = df[df['TOTAL_SALE_PRICE'] < 2.e+6] # and less than 2m\n",
    "df = df[df['DEEDED_ACREAGE'] > 0] # structure not in outer space\n",
    "df = df[df['DEEDED_ACREAGE'] < 5] # skip farms\n",
    "df = df[df['HEATED_AREA'] > 0] # brr, chilly in here \n",
    "df['ppf']=df['TOTAL_SALE_PRICE']/df['HEATED_AREA']\n",
    "df =df[df['ppf']> 6.2]# drop <1pctile\n",
    "df =df[df['ppf'] <228] # drop >99pctile\n",
    "df =df[df['yearsale']>2010]\n",
    "df.shape"
   ]
  },
  {
   "cell_type": "code",
   "execution_count": null,
   "metadata": {},
   "outputs": [],
   "source": [
    "df=df[df['GRADE']!='0']#outliers\n",
    "df.GRADE.value_counts()"
   ]
  },
  {
   "cell_type": "code",
   "execution_count": null,
   "metadata": {},
   "outputs": [],
   "source": [
    "# Search for one string within another\n",
    "# example is '611' in 'I live at 611 main street'\n",
    "# answer: yes, at position 10\n",
    "df2 = df.copy(deep=True)\n",
    "rentalList = []\n",
    "for row in df2.itertuples():\n",
    "    indxName = str(row.Mailing_address1).find(str(row.Street_Name))\n",
    "    indxNumber = str(row.Mailing_address1).find(str(row.Street_Number))\n",
    "    rentalList.append( 1 - ((indxName>=0) & (indxNumber>=0)))\n",
    "df2['rental'] = rentalList\n",
    "df2['rental'].value_counts()\n",
    "df2.shape"
   ]
  },
  {
   "cell_type": "code",
   "execution_count": null,
   "metadata": {},
   "outputs": [],
   "source": [
    "df3=df2[['HEATED_AREA','DEEDED_ACREAGE','rental',\n",
    "           'GRADE','PHYSICAL_CITY','YEAR_BUILT','yearsale','PHYSICAL_ZIP_CODE','TOTAL_SALE_PRICE']]\n",
    "df3.isnull().sum()\n",
    "df4=df3.dropna()\n",
    "df4.shape"
   ]
  },
  {
   "cell_type": "code",
   "execution_count": null,
   "metadata": {},
   "outputs": [],
   "source": [
    "df4['zipcode']=df4['PHYSICAL_ZIP_CODE'].astype(int).astype(str)\n",
    "df4['yearsale']=df4['yearsale'].astype(int).astype(str)"
   ]
  },
  {
   "cell_type": "code",
   "execution_count": null,
   "metadata": {},
   "outputs": [],
   "source": [
    "everyFourthRecord = [x%4==0 for x in range(df4.shape[0])]\n",
    "otherRecords = [not x for x in everyFourthRecord]\n",
    "\n",
    "#tst = df[everyFourthRecord]\n",
    "#trn = df[otherRecords]\n",
    "trn = otherRecords\n",
    "tst = everyFourthRecord\n",
    "dfy = df4['TOTAL_SALE_PRICE']\n",
    "dfx=df4[['HEATED_AREA','DEEDED_ACREAGE','rental','PHYSICAL_CITY',\n",
    "           'GRADE','YEAR_BUILT','yearsale','zipcode','yearsale']]\n",
    "dfx=pd.get_dummies(dfx)\n",
    "print(\"With dummies\",list(dfx))\n",
    "print(dfx.shape) # how big after subsetting\n",
    "#print(dfx.dtypes)\n",
    "df4.yearsale.value_counts()"
   ]
  },
  {
   "cell_type": "code",
   "execution_count": null,
   "metadata": {},
   "outputs": [],
   "source": [
    "scaler=StandardScaler()\n",
    "continuousvars=['HEATED_AREA','DEEDED_ACREAGE','YEAR_BUILT']\n",
    "scaler.fit(dfx[continuousvars])\n",
    "dfx[continuousvars] = scaler.transform(dfx[continuousvars])\n",
    "#print('With Dummies',list(dfx))\n",
    "dfx.shape"
   ]
  },
  {
   "cell_type": "code",
   "execution_count": null,
   "metadata": {},
   "outputs": [],
   "source": [
    "from sklearn.model_selection import cross_val_score\n",
    "\n",
    "ridgecv=RidgeCV(alphas=10.**np.arange(-2, 3), normalize=False, scoring='r2')\n",
    "cross_val_score(ridgecv, dfx.values,dfy.values, cv=3, scoring='r2').mean()\n"
   ]
  },
  {
   "cell_type": "code",
   "execution_count": null,
   "metadata": {},
   "outputs": [],
   "source": [
    "lassoregcv = LassoCV(n_alphas=100, normalize=False, random_state=1)\n",
    "cross_val_score(lassoregcv, dfx.values,dfy.values, cv=3, scoring='r2').mean()"
   ]
  },
  {
   "cell_type": "code",
   "execution_count": null,
   "metadata": {},
   "outputs": [],
   "source": [
    "xtrn = dfx[trn].values\n",
    "xtst = dfx[tst].values\n",
    "ytrn = dfy[trn].values\n",
    "ytst = dfy[tst].values"
   ]
  },
  {
   "cell_type": "code",
   "execution_count": null,
   "metadata": {},
   "outputs": [],
   "source": [
    "from sklearn.metrics import mean_squared_error, r2_score\n",
    "def TestModel(algo):\n",
    "    algo.fit(xtrn, ytrn)\n",
    "    return algo.__class__.__name__, metrics.mean_squared_error(algo.predict(xtst), ytst),metrics.r2_score(ytst,algo.predict(xtst)), algo.coef_\n",
    "an, am, ar, ac = TestModel(LinearRegression())\n",
    "bn, bm, br, bc = TestModel(LassoCV(alphas=[0.005, 0.001, 0.01, 0.1, 1, 10], normalize=False, random_state=1))\n",
    "cn, cm, cr, cc = TestModel(RidgeCV(alphas=10.**np.arange(-2, 3), normalize=False, scoring='neg_mean_squared_error'))\n",
    "\n",
    "#coef = pd.DataFrame({'Feature':list(dfx),an:ac,bn:bc,cn:cc})\n",
    "mse = pd.DataFrame({'Method':[an,bn,cn],'MSE':[am,bm,cm]})\n",
    "rsq = pd.DataFrame({'Method':[an,bn,cn],'RSq':[ar,br,cr]})\n",
    "#print(coef)\n",
    "print(mse)\n",
    "print(rsq)"
   ]
  },
  {
   "cell_type": "code",
   "execution_count": null,
   "metadata": {},
   "outputs": [],
   "source": [
    "from sklearn.ensemble import RandomForestRegressor\n",
    "rf = RandomForestRegressor(n_estimators=100, oob_score=True, random_state=0)\n",
    "rf.fit(xtrn, ytrn)"
   ]
  },
  {
   "cell_type": "code",
   "execution_count": null,
   "metadata": {},
   "outputs": [],
   "source": [
    "from sklearn.metrics import r2_score\n",
    "predicted_train = rf.predict(xtrn)\n",
    "predicted_test = rf.predict(xtst)\n",
    "test_score = r2_score(ytst, predicted_test)\n",
    "print(test_score)"
   ]
  },
  {
   "cell_type": "code",
   "execution_count": null,
   "metadata": {},
   "outputs": [],
   "source": [
    "from sklearn.ensemble import GradientBoostingRegressor\n",
    "from scipy.stats import spearmanr, pearsonr\n",
    "gbr=GradientBoostingRegressor(n_estimators=400,max_depth=5,min_samples_split=2,learning_rate=0.1,loss='ls')\n",
    "gbr.fit(xtrn,ytrn)\n",
    "predicted_train = gbr.predict(xtrn)\n",
    "predicted_test = gbr.predict(xtst)\n",
    "test_score = r2_score(ytst, predicted_test)\n",
    "print(\"Test data R-2 score\", test_score)\n"
   ]
  },
  {
   "cell_type": "code",
   "execution_count": null,
   "metadata": {},
   "outputs": [],
   "source": [
    "feature_names=dfx.columns\n",
    "featurelist=pd.DataFrame(feature_names,gbr.feature_importances_)\n",
    "print (featurelist)"
   ]
  },
  {
   "cell_type": "code",
   "execution_count": null,
   "metadata": {},
   "outputs": [],
   "source": [
    "#pd.DataFrame({\"id\":xts['REAL_ESTATE_ID'], \"actual\": ytst, \"pred\": predicted_test }).to_csv('/manju/waketech/bas230/gb_results.csv',index=False)\n"
   ]
  },
  {
   "cell_type": "code",
   "execution_count": null,
   "metadata": {},
   "outputs": [],
   "source": [
    "#predprice=(np.exp(predicted_test))\n",
    "#print (predprice)"
   ]
  },
  {
   "cell_type": "code",
   "execution_count": null,
   "metadata": {},
   "outputs": [],
   "source": [
    "#results=pd.DataFrame({\"id\":xts['REAL_ESTATE_ID'], \"actual\": (np.exp(ytst)), \"pred\":(np.exp(predicted_test)) })\n",
    "#print (results)"
   ]
  }
 ],
 "metadata": {
  "kernelspec": {
   "display_name": "Python 3",
   "language": "python",
   "name": "python3"
  },
  "language_info": {
   "codemirror_mode": {
    "name": "ipython",
    "version": 3
   },
   "file_extension": ".py",
   "mimetype": "text/x-python",
   "name": "python",
   "nbconvert_exporter": "python",
   "pygments_lexer": "ipython3",
   "version": "3.7.10"
  }
 },
 "nbformat": 4,
 "nbformat_minor": 1
}
